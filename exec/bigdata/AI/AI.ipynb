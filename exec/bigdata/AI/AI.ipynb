{
 "cells": [
  {
   "cell_type": "code",
   "execution_count": 25,
   "metadata": {},
   "outputs": [
    {
     "name": "stdout",
     "output_type": "stream",
     "text": [
      "예측과 맞은 값 : 14, 예측과 틀린 값 : 72\n"
     ]
    }
   ],
   "source": [
    "from sklearn.linear_model import Perceptron\n",
    "from sklearn.linear_model import LogisticRegression\n",
    "from sklearn.svm import SVC\n",
    "from sklearn.preprocessing import StandardScaler\n",
    "import pandas as pd\n",
    "\n",
    "#data 불러오기\n",
    "datas = pd.read_excel(\"C:/Users/multicampus/Desktop/ssafy2/data/data.xlsx\")\n",
    "\n",
    "values = datas.sample(frac=1).values\n",
    "\n",
    "input_data = []\n",
    "output_data = []\n",
    "\n",
    "#\"모른다\"를 제외하고 input(대답 항목)과 output(MBTI)로 분류해서 append\n",
    "for v in values:\n",
    "    if \"모른다\" in v[9]:\n",
    "        continue\n",
    "    input_data.append(v[1:9])\n",
    "    output_data.append(v[9])\n",
    "    \n",
    "# print(input_data)\n",
    "# print(output_data)\n",
    "\n",
    "pre_output = []\n",
    "#우리가 예측한 값과 비교\n",
    "for i in input_data:\n",
    "    out = \"\"\n",
    "    if i[0] + i[1] >= 5:\n",
    "        out += \"E\"\n",
    "    else:\n",
    "        out += \"I\"\n",
    "        \n",
    "    if i[2] + i[3] >= 5:\n",
    "        out += \"N\"\n",
    "    else:\n",
    "        out += \"S\"\n",
    "        \n",
    "    if i[4] + i[5] >= 5:\n",
    "        out += \"F\"\n",
    "    else:\n",
    "        out += \"T\"\n",
    "        \n",
    "    if i[6] + i[7] >= 5:\n",
    "        out += \"P\"\n",
    "    else:\n",
    "        out += \"J\"\n",
    "\n",
    "    pre_output.append(out)\n",
    "    \n",
    "cnt_t = 0\n",
    "cnt_f = 0\n",
    "for i in range(0, len(pre_output)):\n",
    "    if pre_output[i] == output_data[i]:\n",
    "        cnt_t += 1\n",
    "    else:\n",
    "        cnt_f += 1\n",
    "\n",
    "print(\"예측과 맞은 값 : \"+ str(cnt_t) +\", 예측과 틀린 값 : \" + str(cnt_f))\n",
    "# print(pre_output)\n",
    "# print(output_data)\n",
    "# print(input_data)\n"
   ]
  },
  {
   "cell_type": "code",
   "execution_count": 11,
   "metadata": {},
   "outputs": [],
   "source": [
    "import random\n",
    "\n",
    "auto_input_data = []\n",
    "auto_output_data = []\n",
    "num_of_auto = 86 #임의로 만들 숫자\n",
    "\n",
    "    \n",
    "while \"ISTP\" not in auto_output_data or \"ESTP\" not in auto_output_data:\n",
    "    for i in range(0, num_of_auto):\n",
    "        temp = []\n",
    "        for i in range(0, 8):\n",
    "            temp.append(random.randrange(1,5))\n",
    "\n",
    "        auto_input_data.append(temp)\n",
    "\n",
    "        out = \"\"\n",
    "        if temp[0] + temp[1] >= 5:\n",
    "            out += \"E\"\n",
    "        else:\n",
    "            out += \"I\"\n",
    "\n",
    "        if temp[2] + temp[3] >= 5:\n",
    "            out += \"N\"\n",
    "        else:\n",
    "            out += \"S\"\n",
    "\n",
    "        if temp[4] + temp[5] >= 5:\n",
    "            out += \"F\"\n",
    "        else:\n",
    "            out += \"T\"\n",
    "\n",
    "        if temp[6] + temp[7] >= 5:\n",
    "            out += \"P\"\n",
    "        else:\n",
    "            out += \"J\"\n",
    "\n",
    "        auto_output_data.append(out)\n",
    "    "
   ]
  },
  {
   "cell_type": "code",
   "execution_count": 12,
   "metadata": {},
   "outputs": [
    {
     "name": "stdout",
     "output_type": "stream",
     "text": [
      "430\n"
     ]
    }
   ],
   "source": [
    "input_data = input_data * 5\n",
    "output_data = output_data * 5\n",
    "\n",
    "print(len(input_data))"
   ]
  },
  {
   "cell_type": "code",
   "execution_count": 13,
   "metadata": {},
   "outputs": [],
   "source": [
    "input_data += auto_input_data\n",
    "output_data += auto_output_data"
   ]
  },
  {
   "cell_type": "code",
   "execution_count": 14,
   "metadata": {},
   "outputs": [],
   "source": [
    "from sklearn.model_selection import train_test_split\n",
    "\n",
    "train_input, test_input, train_output, test_output = train_test_split(input_data, output_data, test_size=0.20, random_state=1)"
   ]
  },
  {
   "cell_type": "code",
   "execution_count": 15,
   "metadata": {},
   "outputs": [
    {
     "ename": "NameError",
     "evalue": "name 'svm' is not defined",
     "output_type": "error",
     "traceback": [
      "\u001b[1;31m---------------------------------------------------------------------------\u001b[0m",
      "\u001b[1;31mNameError\u001b[0m                                 Traceback (most recent call last)",
      "\u001b[1;32m<ipython-input-15-9774d9427fce>\u001b[0m in \u001b[0;36m<module>\u001b[1;34m\u001b[0m\n\u001b[0;32m      9\u001b[0m                'kernel': ['rbf']}]\n\u001b[0;32m     10\u001b[0m \u001b[1;33m\u001b[0m\u001b[0m\n\u001b[1;32m---> 11\u001b[1;33m gs = GridSearchCV(estimator = svm,\n\u001b[0m\u001b[0;32m     12\u001b[0m                   \u001b[0mparam_grid\u001b[0m \u001b[1;33m=\u001b[0m \u001b[0mparam_grid\u001b[0m\u001b[1;33m,\u001b[0m\u001b[1;33m\u001b[0m\u001b[1;33m\u001b[0m\u001b[0m\n\u001b[0;32m     13\u001b[0m                   \u001b[0mscoring\u001b[0m \u001b[1;33m=\u001b[0m \u001b[1;34m'accuracy'\u001b[0m\u001b[1;33m,\u001b[0m\u001b[1;33m\u001b[0m\u001b[1;33m\u001b[0m\u001b[0m\n",
      "\u001b[1;31mNameError\u001b[0m: name 'svm' is not defined"
     ]
    }
   ],
   "source": [
    "from sklearn.model_selection import GridSearchCV\n",
    "\n",
    "c_range = [0.1, 1.0, 10.0]\n",
    "gamma_range = [1, 0.5, 0.1]\n",
    "param_grid = [{'C': c_range,\n",
    "               'kernel': ['linear']},\n",
    "              {'C': c_range,\n",
    "               'gamma': gamma_range,\n",
    "               'kernel': ['rbf']}]\n",
    "\n",
    "gs = GridSearchCV(estimator = svm,\n",
    "                  param_grid = param_grid,\n",
    "                  scoring = 'accuracy',\n",
    "                  cv = 5,\n",
    "                  n_jobs = 8)\n",
    "\n",
    "gs = gs.fit(input_data, output_data)\n",
    "print(gs.cv_results_)\n",
    "print(\"Best score : {}\".format(gs.best_score_))\n",
    "print(\"Best parameter : {}\".format(gs.best_params_))"
   ]
  },
  {
   "cell_type": "code",
   "execution_count": 16,
   "metadata": {},
   "outputs": [
    {
     "name": "stderr",
     "output_type": "stream",
     "text": [
      "C:\\ProgramData\\Anaconda3\\lib\\site-packages\\sklearn\\linear_model\\_logistic.py:762: ConvergenceWarning: lbfgs failed to converge (status=1):\n",
      "STOP: TOTAL NO. of ITERATIONS REACHED LIMIT.\n",
      "\n",
      "Increase the number of iterations (max_iter) or scale the data as shown in:\n",
      "    https://scikit-learn.org/stable/modules/preprocessing.html\n",
      "Please also refer to the documentation for alternative solver options:\n",
      "    https://scikit-learn.org/stable/modules/linear_model.html#logistic-regression\n",
      "  n_iter_i = _check_optimize_result(\n"
     ]
    },
    {
     "data": {
      "text/plain": [
       "SVC(C=10, gamma=0.1, random_state=1)"
      ]
     },
     "execution_count": 16,
     "metadata": {},
     "output_type": "execute_result"
    }
   ],
   "source": [
    "#학습\n",
    "ppn = Perceptron(eta0=0.01, random_state=1)\n",
    "ppn.fit(train_input, train_output)\n",
    "\n",
    "lr = LogisticRegression(C=0.1, random_state=1)\n",
    "lr.fit(train_input, train_output)\n",
    "\n",
    "\n",
    "svm = SVC(kernel='rbf', random_state=1, gamma=0.1, C=10)\n",
    "svm.fit(train_input, train_output)"
   ]
  },
  {
   "cell_type": "code",
   "execution_count": 24,
   "metadata": {},
   "outputs": [
    {
     "data": {
      "text/plain": [
       "'ISTJ'"
      ]
     },
     "execution_count": 24,
     "metadata": {},
     "output_type": "execute_result"
    }
   ],
   "source": [
    "svm.predict([[1,2,3,1,4,2,1,3]])[0]"
   ]
  },
  {
   "cell_type": "code",
   "execution_count": 19,
   "metadata": {},
   "outputs": [],
   "source": [
    "#결과\n",
    "y_pred_ppn = ppn.predict(test_input)\n",
    "y_pred_lr = lr.predict(test_input)\n",
    "y_pred_svm = svm.predict(test_input)\n",
    "\n"
   ]
  },
  {
   "cell_type": "code",
   "execution_count": 22,
   "metadata": {},
   "outputs": [
    {
     "data": {
      "text/plain": [
       "array(['ENTJ', 'ISFJ', 'ENTP', 'ENFP', 'ESFP', 'ENFJ', 'ENTJ', 'ENTP',\n",
       "       'INFJ', 'ENTP', 'ISFP', 'INTP', 'INFP', 'INFJ', 'ISFJ', 'ENFP',\n",
       "       'ISTJ', 'ENTJ', 'ISTP', 'ENTP', 'ESFJ', 'ESFJ', 'ESTJ', 'ENTP',\n",
       "       'ESTJ', 'ENTP', 'INTP', 'INTJ', 'ISFJ', 'INFJ', 'ESFP', 'ESFJ',\n",
       "       'ENTP', 'INTP', 'ESTJ', 'ENTJ', 'ENTJ', 'ENFJ', 'ISFJ', 'INTJ',\n",
       "       'ESFJ', 'ISFJ', 'ENTJ', 'ISFJ', 'ENTP', 'ESFJ', 'INTP', 'ENFP',\n",
       "       'INFJ', 'ISFP', 'ENFJ', 'INFP', 'ISTJ', 'ESFJ', 'INTP', 'ISFJ',\n",
       "       'ESFP', 'ISTJ', 'ESFP', 'ISFJ', 'ESFJ', 'ESFJ', 'ESFP', 'INTJ',\n",
       "       'INFJ', 'INTP', 'INTJ', 'ENFJ', 'ENTJ', 'ENTJ', 'ENFP', 'ISFP',\n",
       "       'ENFJ', 'ENFP', 'INFJ', 'ISFP', 'ESFJ', 'ENFP', 'INTP', 'ENFJ',\n",
       "       'ENFJ', 'INTP', 'ESFP', 'ENFJ', 'ENTP', 'INFJ', 'ESFJ', 'INTP',\n",
       "       'INTJ', 'ISTJ', 'ESTJ', 'ISFP', 'INFJ', 'ENTP', 'ESTJ', 'ESFP',\n",
       "       'ESFJ', 'INTP', 'ESTJ', 'ISFP', 'ENTP', 'ESTJ', 'ESTJ', 'ESFP'],\n",
       "      dtype='<U4')"
      ]
     },
     "execution_count": 22,
     "metadata": {},
     "output_type": "execute_result"
    }
   ],
   "source": [
    "y_pred_svm"
   ]
  },
  {
   "cell_type": "code",
   "execution_count": 20,
   "metadata": {},
   "outputs": [
    {
     "name": "stdout",
     "output_type": "stream",
     "text": [
      "Accuracy: 0.2885\n",
      "Accuracy: 0.2596\n",
      "Accuracy: 0.8750\n"
     ]
    }
   ],
   "source": [
    "from sklearn.metrics import accuracy_score\n",
    "\n",
    "#성공율 추출\n",
    "print('Accuracy: %.4f' % accuracy_score(test_output, y_pred_ppn))\n",
    "print('Accuracy: %.4f' % accuracy_score(test_output, y_pred_lr))\n",
    "print('Accuracy: %.4f' % accuracy_score(test_output, y_pred_svm))"
   ]
  },
  {
   "cell_type": "code",
   "execution_count": 21,
   "metadata": {},
   "outputs": [
    {
     "data": {
      "image/png": "[encoded data removed]",
      "text/plain": [
       "<Figure size 432x288 with 1 Axes>"
      ]
     },
     "metadata": {
      "needs_background": "light"
     },
     "output_type": "display_data"
    }
   ],
   "source": [
    "from matplotlib import pyplot as plt\n",
    "import seaborn as sns\n",
    "\n",
    "\n",
    "sns.barplot(\n",
    "    x= ['Perceptron', 'LinearRegression', 'SVM'],\n",
    "    y= [accuracy_score(test_output, y_pred_ppn), accuracy_score(test_output, y_pred_lr), accuracy_score(test_output, y_pred_svm)],\n",
    ")\n",
    "plt.show()"
   ]
  },
  {
   "cell_type": "code",
   "execution_count": null,
   "metadata": {},
   "outputs": [],
   "source": []
  }
 ],
 "metadata": {
  "kernelspec": {
   "display_name": "Python 3",
   "language": "python",
   "name": "python3"
  },
  "language_info": {
   "codemirror_mode": {
    "name": "ipython",
    "version": 3
   },
   "file_extension": ".py",
   "mimetype": "text/x-python",
   "name": "python",
   "nbconvert_exporter": "python",
   "pygments_lexer": "ipython3",
   "version": "3.8.5"
  }
 },
 "nbformat": 4,
 "nbformat_minor": 4
}
